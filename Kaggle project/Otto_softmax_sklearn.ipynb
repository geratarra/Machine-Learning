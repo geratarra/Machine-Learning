{
 "cells": [
  {
   "cell_type": "markdown",
   "metadata": {},
   "source": [
    "# Grupo Otto\n",
    "## Usando sklearn :D"
   ]
  },
  {
   "cell_type": "code",
   "execution_count": 1,
   "metadata": {
    "collapsed": false
   },
   "outputs": [],
   "source": [
    "import numpy as np\n",
    "%matplotlib inline\n",
    "from sklearn.ensemble import AdaBoostClassifier\n",
    "from sklearn.tree import DecisionTreeClassifier\n",
    "from sklearn import cross_validation\n",
    "from sklearn import linear_model, decomposition, svm\n",
    "from sklearn.pipeline import Pipeline\n",
    "from sklearn.grid_search import GridSearchCV\n",
    "from sklearn.preprocessing import PolynomialFeatures\n",
    "import matplotlib.pyplot as plt\n",
    "from sklearn.ensemble import RandomForestClassifier\n",
    "from sklearn.learning_curve import learning_curve\n",
    "from sklearn.cross_validation import train_test_split\n"
   ]
  },
  {
   "cell_type": "code",
   "execution_count": 2,
   "metadata": {
    "collapsed": false
   },
   "outputs": [
    {
     "name": "stdout",
     "output_type": "stream",
     "text": [
      "Target: (61878,)\n",
      "Datos: (61878, 93)\n"
     ]
    }
   ],
   "source": [
    "# Extraemos los datos del archivo sin el primero renglon\n",
    "data = np.genfromtxt(\"train.csv\", delimiter = \",\", converters = {94: lambda s: int(s[-1])}, dtype = \"int\", skip_header = 1)\n",
    "# Almacenamos nuestro target\n",
    "target = data[:,-1]\n",
    "# Borramos la primera columna y la ultima, no las necesitamos mas\n",
    "data = np.delete(data, 0, axis = 1)\n",
    "data = np.delete(data, -1, axis =1)\n",
    "\n",
    "# Cargamos los datos de posteriormente usaremos para la prediccion\n",
    "test = np.genfromtxt(\"test.csv\", delimiter = \",\", skip_header = 1, dtype = \"int\")\n",
    "\n",
    "test = np.delete(test, 0, axis = 1)\n",
    "print \"Target:\", target.shape\n",
    "print \"Datos:\", data.shape"
   ]
  },
  {
   "cell_type": "code",
   "execution_count": 5,
   "metadata": {
    "collapsed": false
   },
   "outputs": [
    {
     "data": {
      "text/plain": [
       "array([[  1.92631575e-04,   2.21083246e-01,   3.63206584e-01, ...,\n",
       "          1.31207733e-02,   5.27481763e-06,   2.79165136e-07],\n",
       "       [  3.46187636e-04,   9.42216754e-02,   2.77431264e-04, ...,\n",
       "          1.87603937e-03,   3.35789341e-01,   1.64385376e-03],\n",
       "       [  4.33166147e-04,   2.07455383e-04,   7.36179069e-05, ...,\n",
       "          6.53814479e-04,   7.11110219e-04,   4.89960721e-05],\n",
       "       ..., \n",
       "       [  6.20930127e-12,   2.36446967e-01,   6.07271244e-01, ...,\n",
       "          6.27241538e-03,   7.61598326e-08,   1.68089908e-09],\n",
       "       [  3.11575954e-04,   6.69609205e-01,   1.56549653e-01, ...,\n",
       "          3.04055151e-03,   1.17181476e-03,   3.61595893e-04],\n",
       "       [  2.24108698e-03,   4.21739026e-01,   3.69675980e-01, ...,\n",
       "          1.05879460e-01,   1.42509229e-04,   4.76231981e-04]])"
      ]
     },
     "execution_count": 5,
     "metadata": {},
     "output_type": "execute_result"
    }
   ],
   "source": [
    "# Primeramente use una regresion logistica sin regularizar para hacer el primer\n",
    "# submission \n",
    "\n",
    "logistic = linear_model.LogisticRegression()\n",
    "logistic.fit(data, target)\n",
    "y_est = logistic.predict_proba(test)\n",
    "y_est"
   ]
  },
  {
   "cell_type": "code",
   "execution_count": 4,
   "metadata": {
    "collapsed": false
   },
   "outputs": [],
   "source": [
    "# Funcion plagiada de la web de sklearn para graficar curvas de aprendizaje bonitas\n",
    "\n",
    "def plot_learning_curve(estimator, title, X, y, ylim=None, cv=None,\n",
    "                        n_jobs=1, train_sizes=np.linspace(.1, 1.0, 5)):\n",
    "    \"\"\"\n",
    "    Generate a simple plot of the test and traning learning curve.\n",
    "\n",
    "    Parameters\n",
    "    ----------\n",
    "    es : string\n",
    "        Title for the chart.\n",
    "\n",
    "    X : array-like, shape (n_samples, n_features)\n",
    "        Training vector, where n_samples is the number of samples and\n",
    "        n_features is the number of features.\n",
    "\n",
    "    y : array-like, shape (n_samples) or (n_samples, n_features), optional\n",
    "        Target relative to X for classification or regression;\n",
    "        None for unsupervised learning.\n",
    "\n",
    "    ylim : tuple, shape (ymin, ymax), optional\n",
    "        Defines minimum and maximum yvalues plotted.\n",
    "\n",
    "    cv : integer, cross-validation generator, optional\n",
    "        If an integer is passed, it is the number of folds (defaults to 3).\n",
    "        Specific cross-validation objects can be passed, see\n",
    "        sklearn.cross_validation module for the list of possible objects\n",
    "\n",
    "    n_jobs : integer, optional\n",
    "        Number of jobs to run in parallel (default 1).\n",
    "    \"\"\"\n",
    "    plt.figure()\n",
    "    plt.title(title)\n",
    "    if ylim is not None:\n",
    "        plt.ylim(*ylim)\n",
    "    plt.xlabel(\"Training examples\")\n",
    "    plt.ylabel(\"Score\")\n",
    "    train_sizes, train_scores, test_scores = learning_curve(\n",
    "        estimator, X, y, cv=cv, n_jobs=n_jobs, train_sizes=train_sizes)\n",
    "    train_scores_mean = np.mean(train_scores, axis=1)\n",
    "    train_scores_std = np.std(train_scores, axis=1)\n",
    "    test_scores_mean = np.mean(test_scores, axis=1)\n",
    "    test_scores_std = np.std(test_scores, axis=1)\n",
    "    plt.grid()\n",
    "\n",
    "    plt.fill_between(train_sizes, train_scores_mean - train_scores_std,\n",
    "                     train_scores_mean + train_scores_std, alpha=0.1,\n",
    "                     color=\"r\")\n",
    "    plt.fill_between(train_sizes, test_scores_mean - test_scores_std,\n",
    "                     test_scores_mean + test_scores_std, alpha=0.1, color=\"g\")\n",
    "    plt.plot(train_sizes, train_scores_mean, 'o-', color=\"r\",\n",
    "             label=\"Training score\")\n",
    "    plt.plot(train_sizes, test_scores_mean, 'o-', color=\"g\",\n",
    "             label=\"Cross-validation score\")\n",
    "\n",
    "    plt.legend(loc=\"best\")\n",
    "    return plt"
   ]
  },
  {
   "cell_type": "code",
   "execution_count": 6,
   "metadata": {
    "collapsed": false
   },
   "outputs": [
    {
     "data": {
      "image/png": "[encoded data removed]",
      "text/plain": [
       "<matplotlib.figure.Figure at 0x7f378fa72c10>"
      ]
     },
     "metadata": {},
     "output_type": "display_data"
    },
    {
     "name": "stdout",
     "output_type": "stream",
     "text": [
      "termine\n"
     ]
    }
   ],
   "source": [
    "# Vamos a ver que nos dice la curva acerca de mi algoritmo de aprendizaje,\n",
    "# con CV revolviendo el split y partiendo mis datos (30% para datos de\n",
    "# testing)\n",
    "title = \"Learning Curves Multi-class regression\"\n",
    "cv = cross_validation.ShuffleSplit(data.shape[0], n_iter=10,\n",
    "                                   test_size=0.3)\n",
    "estimator = linear_model.LogisticRegression()\n",
    "plot_learning_curve(estimator, title, data, target, cv=cv, n_jobs=4)\n",
    "\n",
    "plt.show()\n",
    "print \"termine\"\n"
   ]
  },
  {
   "cell_type": "code",
   "execution_count": null,
   "metadata": {
    "collapsed": true
   },
   "outputs": [],
   "source": [
    "# A pesar de que la curva no me indique necesidad de regularizar\n",
    "# tambien grafica con C = 10, dandome como resultado algo muy similar a lo anterior."
   ]
  },
  {
   "cell_type": "code",
   "execution_count": 12,
   "metadata": {
    "collapsed": false
   },
   "outputs": [
    {
     "data": {
      "text/plain": [
       "(61878, 60)"
      ]
     },
     "execution_count": 12,
     "metadata": {},
     "output_type": "execute_result"
    }
   ],
   "source": [
    "# Segun la curva de aprendizaje que se arroja, el aumentar el numero de muestra\n",
    "# no ayudaria mucho (a parte no seria un opcion ya que no puedo pedir mas datos),\n",
    "# los dos score's se empiezan a parecer bastante bien\n",
    "# a partir de 20000 datos de entrenamiento. Tambien no aparece un score tan alto\n",
    "# como para aplicar regularizacion. (Aunque lo intente y no sirvio)\n",
    "# Segun una discusion en el foro de la competencia, la reduccion de\n",
    "# dimensionalidad tampoco es tan util (en este caso), pero podemos intentarlo\n",
    "# y despues hacer una expansion polinomial para reducir un poco el bias.\n",
    "\n",
    "pca = decomposition.PCA(n_components = 60)\n",
    "pca.fit(data)\n",
    "pca_data = pca.transform(data)\n",
    "#pca_test = pca.transform(test)\n",
    "pca_data.shape"
   ]
  },
  {
   "cell_type": "code",
   "execution_count": 16,
   "metadata": {
    "collapsed": false
   },
   "outputs": [
    {
     "ename": "MemoryError",
     "evalue": "",
     "output_type": "error",
     "traceback": [
      "\u001b[1;31m---------------------------------------------------------------------------\u001b[0m",
      "\u001b[1;31mMemoryError\u001b[0m                               Traceback (most recent call last)",
      "\u001b[1;32m<ipython-input-16-03bf676dfe5f>\u001b[0m in \u001b[0;36m<module>\u001b[1;34m()\u001b[0m\n\u001b[0;32m      1\u001b[0m \u001b[1;33m\u001b[0m\u001b[0m\n\u001b[0;32m      2\u001b[0m \u001b[0mpoly\u001b[0m \u001b[1;33m=\u001b[0m \u001b[0mPolynomialFeatures\u001b[0m\u001b[1;33m(\u001b[0m\u001b[1;36m2\u001b[0m\u001b[1;33m)\u001b[0m\u001b[1;33m\u001b[0m\u001b[0m\n\u001b[1;32m----> 3\u001b[1;33m \u001b[0mpca_exp_data\u001b[0m \u001b[1;33m=\u001b[0m \u001b[0mpoly\u001b[0m\u001b[1;33m.\u001b[0m\u001b[0mfit_transform\u001b[0m\u001b[1;33m(\u001b[0m\u001b[0mdata\u001b[0m\u001b[1;33m)\u001b[0m\u001b[1;33m\u001b[0m\u001b[0m\n\u001b[0m\u001b[0;32m      4\u001b[0m \u001b[0mpca_exp_data\u001b[0m\u001b[1;33m\u001b[0m\u001b[0m\n",
      "\u001b[1;32m/home/gerardo/anaconda/lib/python2.7/site-packages/sklearn/base.pyc\u001b[0m in \u001b[0;36mfit_transform\u001b[1;34m(self, X, y, **fit_params)\u001b[0m\n\u001b[0;32m    424\u001b[0m         \u001b[1;32mif\u001b[0m \u001b[0my\u001b[0m \u001b[1;32mis\u001b[0m \u001b[0mNone\u001b[0m\u001b[1;33m:\u001b[0m\u001b[1;33m\u001b[0m\u001b[0m\n\u001b[0;32m    425\u001b[0m             \u001b[1;31m# fit method of arity 1 (unsupervised transformation)\u001b[0m\u001b[1;33m\u001b[0m\u001b[1;33m\u001b[0m\u001b[0m\n\u001b[1;32m--> 426\u001b[1;33m             \u001b[1;32mreturn\u001b[0m \u001b[0mself\u001b[0m\u001b[1;33m.\u001b[0m\u001b[0mfit\u001b[0m\u001b[1;33m(\u001b[0m\u001b[0mX\u001b[0m\u001b[1;33m,\u001b[0m \u001b[1;33m**\u001b[0m\u001b[0mfit_params\u001b[0m\u001b[1;33m)\u001b[0m\u001b[1;33m.\u001b[0m\u001b[0mtransform\u001b[0m\u001b[1;33m(\u001b[0m\u001b[0mX\u001b[0m\u001b[1;33m)\u001b[0m\u001b[1;33m\u001b[0m\u001b[0m\n\u001b[0m\u001b[0;32m    427\u001b[0m         \u001b[1;32melse\u001b[0m\u001b[1;33m:\u001b[0m\u001b[1;33m\u001b[0m\u001b[0m\n\u001b[0;32m    428\u001b[0m             \u001b[1;31m# fit method of arity 2 (supervised transformation)\u001b[0m\u001b[1;33m\u001b[0m\u001b[1;33m\u001b[0m\u001b[0m\n",
      "\u001b[1;32m/home/gerardo/anaconda/lib/python2.7/site-packages/sklearn/preprocessing/data.pyc\u001b[0m in \u001b[0;36mtransform\u001b[1;34m(self, X, y)\u001b[0m\n\u001b[0;32m    494\u001b[0m             \u001b[1;32mraise\u001b[0m \u001b[0mValueError\u001b[0m\u001b[1;33m(\u001b[0m\u001b[1;34m\"X shape does not match training shape\"\u001b[0m\u001b[1;33m)\u001b[0m\u001b[1;33m\u001b[0m\u001b[0m\n\u001b[0;32m    495\u001b[0m \u001b[1;33m\u001b[0m\u001b[0m\n\u001b[1;32m--> 496\u001b[1;33m         \u001b[1;32mreturn\u001b[0m \u001b[1;33m(\u001b[0m\u001b[0mX\u001b[0m\u001b[1;33m[\u001b[0m\u001b[1;33m:\u001b[0m\u001b[1;33m,\u001b[0m \u001b[0mNone\u001b[0m\u001b[1;33m,\u001b[0m \u001b[1;33m:\u001b[0m\u001b[1;33m]\u001b[0m \u001b[1;33m**\u001b[0m \u001b[0mself\u001b[0m\u001b[1;33m.\u001b[0m\u001b[0mpowers_\u001b[0m\u001b[1;33m)\u001b[0m\u001b[1;33m.\u001b[0m\u001b[0mprod\u001b[0m\u001b[1;33m(\u001b[0m\u001b[1;33m-\u001b[0m\u001b[1;36m1\u001b[0m\u001b[1;33m)\u001b[0m\u001b[1;33m\u001b[0m\u001b[0m\n\u001b[0m\u001b[0;32m    497\u001b[0m \u001b[1;33m\u001b[0m\u001b[0m\n\u001b[0;32m    498\u001b[0m \u001b[1;33m\u001b[0m\u001b[0m\n",
      "\u001b[1;31mMemoryError\u001b[0m: "
     ]
    }
   ],
   "source": [
    "# expansion cuadratica\n",
    "poly = PolynomialFeatures(2)\n",
    "pca_exp_data = poly.fit_transform(data)\n",
    "\n",
    "# Aqui sacare otra curva de aprendizaje para ver que resultados tengo despues\n",
    "# de haber hecho la expansion polinomial. Pero lo siguiente no funcionara\n",
    "# ya que al tratar de hacer la expansion me lanza un error de memoria.\n",
    "# En caso de haber obtenido un mejor score quiza hubiera sido bueno\n",
    "# (y dependiendo de lo que arroje la curva), ahora si, usar regularizacion\n",
    "# para poder generalizar mejor.\n",
    "title = \"Learning Curves Multi-class regression\"\n",
    "cv = cross_validation.ShuffleSplit(data.shape[0], n_iter=10,\n",
    "                                   test_size=0.3, random_state=0)\n",
    "estimator = linear_model.LogisticRegression()\n",
    "plot_learning_curve(estimator, title, pca_exp_data, target, cv=cv, n_jobs=4)\n",
    "plt.show()"
   ]
  },
  {
   "cell_type": "code",
   "execution_count": 24,
   "metadata": {
    "collapsed": true
   },
   "outputs": [],
   "source": [
    "# Aqui solo cargamos los datos con los que vamos a predecir y hacer submissions..\n",
    "\n",
    "test = np.genfromtxt(\"test.csv\", delimiter = \",\", skip_header = 1, dtype = \"int\")\n",
    "test = np.delete(test, 0, axis = 1)"
   ]
  },
  {
   "cell_type": "code",
   "execution_count": 14,
   "metadata": {
    "collapsed": false
   },
   "outputs": [
    {
     "data": {
      "text/plain": [
       "(144368, 93)"
      ]
     },
     "execution_count": 14,
     "metadata": {},
     "output_type": "execute_result"
    }
   ],
   "source": [
    "test.shape"
   ]
  },
  {
   "cell_type": "code",
   "execution_count": 11,
   "metadata": {
    "collapsed": false
   },
   "outputs": [
    {
     "ename": "KeyboardInterrupt",
     "evalue": "",
     "output_type": "error",
     "traceback": [
      "\u001b[1;31m---------------------------------------------------------------------------\u001b[0m",
      "\u001b[1;31mKeyboardInterrupt\u001b[0m                         Traceback (most recent call last)",
      "\u001b[1;32m<ipython-input-11-2b501dbd7b54>\u001b[0m in \u001b[0;36m<module>\u001b[1;34m()\u001b[0m\n\u001b[0;32m      5\u001b[0m \u001b[1;31m# y fue la que me dio mejor calificacion ( aunque no mucha diferencia )\u001b[0m\u001b[1;33m\u001b[0m\u001b[1;33m\u001b[0m\u001b[0m\n\u001b[0;32m      6\u001b[0m \u001b[0mclf\u001b[0m \u001b[1;33m=\u001b[0m \u001b[0msvm\u001b[0m\u001b[1;33m.\u001b[0m\u001b[0mSVC\u001b[0m\u001b[1;33m(\u001b[0m\u001b[0mkernel\u001b[0m \u001b[1;33m=\u001b[0m \u001b[1;34m\"linear\"\u001b[0m\u001b[1;33m)\u001b[0m\u001b[1;33m\u001b[0m\u001b[0m\n\u001b[1;32m----> 7\u001b[1;33m \u001b[0mclf\u001b[0m\u001b[1;33m.\u001b[0m\u001b[0mfit\u001b[0m\u001b[1;33m(\u001b[0m\u001b[0mdata\u001b[0m\u001b[1;33m,\u001b[0m \u001b[0mtarget\u001b[0m\u001b[1;33m)\u001b[0m\u001b[1;33m\u001b[0m\u001b[0m\n\u001b[0m\u001b[0;32m      8\u001b[0m \u001b[0myest\u001b[0m \u001b[1;33m=\u001b[0m \u001b[0mclf\u001b[0m\u001b[1;33m.\u001b[0m\u001b[0mpredict_proba\u001b[0m\u001b[1;33m(\u001b[0m\u001b[0mtest\u001b[0m\u001b[1;33m)\u001b[0m\u001b[1;33m\u001b[0m\u001b[0m\n\u001b[0;32m      9\u001b[0m \u001b[1;32mprint\u001b[0m \u001b[1;34m\"Ajustado..\"\u001b[0m\u001b[1;33m\u001b[0m\u001b[0m\n",
      "\u001b[1;32m/home/gerardo/anaconda/lib/python2.7/site-packages/sklearn/svm/base.pyc\u001b[0m in \u001b[0;36mfit\u001b[1;34m(self, X, y, sample_weight)\u001b[0m\n\u001b[0;32m    174\u001b[0m \u001b[1;33m\u001b[0m\u001b[0m\n\u001b[0;32m    175\u001b[0m         \u001b[0mseed\u001b[0m \u001b[1;33m=\u001b[0m \u001b[0mrnd\u001b[0m\u001b[1;33m.\u001b[0m\u001b[0mrandint\u001b[0m\u001b[1;33m(\u001b[0m\u001b[0mnp\u001b[0m\u001b[1;33m.\u001b[0m\u001b[0miinfo\u001b[0m\u001b[1;33m(\u001b[0m\u001b[1;34m'i'\u001b[0m\u001b[1;33m)\u001b[0m\u001b[1;33m.\u001b[0m\u001b[0mmax\u001b[0m\u001b[1;33m)\u001b[0m\u001b[1;33m\u001b[0m\u001b[0m\n\u001b[1;32m--> 176\u001b[1;33m         \u001b[0mfit\u001b[0m\u001b[1;33m(\u001b[0m\u001b[0mX\u001b[0m\u001b[1;33m,\u001b[0m \u001b[0my\u001b[0m\u001b[1;33m,\u001b[0m \u001b[0msample_weight\u001b[0m\u001b[1;33m,\u001b[0m \u001b[0msolver_type\u001b[0m\u001b[1;33m,\u001b[0m \u001b[0mkernel\u001b[0m\u001b[1;33m,\u001b[0m \u001b[0mrandom_seed\u001b[0m\u001b[1;33m=\u001b[0m\u001b[0mseed\u001b[0m\u001b[1;33m)\u001b[0m\u001b[1;33m\u001b[0m\u001b[0m\n\u001b[0m\u001b[0;32m    177\u001b[0m         \u001b[1;31m# see comment on the other call to np.iinfo in this file\u001b[0m\u001b[1;33m\u001b[0m\u001b[1;33m\u001b[0m\u001b[0m\n\u001b[0;32m    178\u001b[0m \u001b[1;33m\u001b[0m\u001b[0m\n",
      "\u001b[1;32m/home/gerardo/anaconda/lib/python2.7/site-packages/sklearn/svm/base.pyc\u001b[0m in \u001b[0;36m_dense_fit\u001b[1;34m(self, X, y, sample_weight, solver_type, kernel, random_seed)\u001b[0m\n\u001b[0;32m    229\u001b[0m                 \u001b[0mcache_size\u001b[0m\u001b[1;33m=\u001b[0m\u001b[0mself\u001b[0m\u001b[1;33m.\u001b[0m\u001b[0mcache_size\u001b[0m\u001b[1;33m,\u001b[0m \u001b[0mcoef0\u001b[0m\u001b[1;33m=\u001b[0m\u001b[0mself\u001b[0m\u001b[1;33m.\u001b[0m\u001b[0mcoef0\u001b[0m\u001b[1;33m,\u001b[0m\u001b[1;33m\u001b[0m\u001b[0m\n\u001b[0;32m    230\u001b[0m                 \u001b[0mgamma\u001b[0m\u001b[1;33m=\u001b[0m\u001b[0mself\u001b[0m\u001b[1;33m.\u001b[0m\u001b[0m_gamma\u001b[0m\u001b[1;33m,\u001b[0m \u001b[0mepsilon\u001b[0m\u001b[1;33m=\u001b[0m\u001b[0mself\u001b[0m\u001b[1;33m.\u001b[0m\u001b[0mepsilon\u001b[0m\u001b[1;33m,\u001b[0m\u001b[1;33m\u001b[0m\u001b[0m\n\u001b[1;32m--> 231\u001b[1;33m                 max_iter=self.max_iter, random_seed=random_seed)\n\u001b[0m\u001b[0;32m    232\u001b[0m \u001b[1;33m\u001b[0m\u001b[0m\n\u001b[0;32m    233\u001b[0m         \u001b[0mself\u001b[0m\u001b[1;33m.\u001b[0m\u001b[0m_warn_from_fit_status\u001b[0m\u001b[1;33m(\u001b[0m\u001b[1;33m)\u001b[0m\u001b[1;33m\u001b[0m\u001b[0m\n",
      "\u001b[1;31mKeyboardInterrupt\u001b[0m: "
     ]
    }
   ],
   "source": [
    "###///////       SUPPORT VECTOR MACHINE      /////////###\n",
    "# Tambien probe con maquinas de vector de soporte con kernel lineal,\n",
    "# ya que otro tipo de kernel nunca pude correr bien el algoritmo\n",
    "# me trababa mi maquina. Pero hice un submission con estas predicciones\n",
    "# y fue la que me dio mejor calificacion ( aunque no mucha diferencia )\n",
    "clf = svm.SVC(kernel = \"linear\")\n",
    "clf.fit(data, target)\n",
    "yest = clf.predict_proba(test)\n",
    "print \"Ajustado..\""
   ]
  },
  {
   "cell_type": "code",
   "execution_count": null,
   "metadata": {
    "collapsed": true
   },
   "outputs": [],
   "source": [
    "id = np.arange(1, yest.shape[0] + 1)\n",
    "print id.shape, yest.shape\n",
    "yest = np.concatenate((id.reshape(-1,1).astype(object), yest), axis = 1)\n",
    "yest.shape\n",
    "print yest\n",
    "np.savetxt(\"sub2.csv\", yest, delimiter = \",\", fmt = \"%s\")\n",
    "print \"finished\""
   ]
  },
  {
   "cell_type": "code",
   "execution_count": 19,
   "metadata": {
    "collapsed": false
   },
   "outputs": [],
   "source": [
    "\"\"\"\n",
    "////////////////////////////////////////////////////\n",
    "///  USANDO ANALISIS DE COMPONENTES PRINCIPALES  ///\n",
    "////////////////////////////////////////////////////\n",
    "\"\"\"\n",
    "\n",
    "# Tambien use este ejemplo de la web de Sklearn para buscar exhaustivamente\n",
    "# (con gridsearch) el parametro C de regularizacion (aunque teniendo en\n",
    "# mente que quisa no sea necesario regularizar aun), que mejor ajusta, pero\n",
    "# no obtuve buenos resultados.\n",
    "\n",
    "logistic = linear_model.LogisticRegression()\n",
    "pca = decomposition.PCA()\n",
    "pipe = Pipeline(steps = [('pca', pca), ('logistic', logistic)])\n",
    "pca.fit(data)\n",
    "plt.figure(1, figsize =(4,3))\n",
    "plt.clf()\n",
    "plt.axes([.2, .2, .7, .7])\n",
    "plt.plot(pca.explained_variance_, linewidth = 2)\n",
    "plt.axis('tight')\n",
    "plt.xlabel('n_components')\n",
    "plt.ylabel('explained_variance_')\n",
    "                \n",
    "n_components = [20, 40, 64]\n",
    "Cs = np.logspace(-4, 4, 3)\n",
    "\n",
    "estimator = GridSearchCV(pipe,\n",
    "                        dict(pca__n_components = n_components,\n",
    "                            logistic__C = Cs))\n",
    "estimator.fit(data, target)\n",
    "plt.axvline(estimator.best_estimator_.named_steps['pca'].n_components,\n",
    "           linestyle=':', label = 'n_components chosen')\n",
    "plt.legend(prop = dict(size = 12))\n",
    "plt.show()\n"
   ]
  },
  {
   "cell_type": "code",
   "execution_count": null,
   "metadata": {
    "collapsed": false
   },
   "outputs": [],
   "source": [
    "# Este bloque nunca quizo correr (o lo hizo pero nunca mostro la grafica)\n",
    "\n",
    "title = \"Learning Curves Multi-class regression\"\n",
    "cv = cross_validation.ShuffleSplit(data.shape[0], n_iter=10,\n",
    "                                   test_size=0.3)\n",
    "estimator = svm.LinearSVC() #dejamos un maximo de 1000 iteraciones\n",
    "plot_learning_curve(estimator, title, pca_data, target, cv=cv, n_jobs=4)\n",
    "\n",
    "plt.show()\n",
    "print \"termine\""
   ]
  },
  {
   "cell_type": "code",
   "execution_count": 9,
   "metadata": {
    "collapsed": false
   },
   "outputs": [
    {
     "name": "stdout",
     "output_type": "stream",
     "text": [
      "0.992549856169\n"
     ]
    },
    {
     "data": {
      "text/plain": [
       "'\\n#svc = svm.SVC(kernel = \"linear\")\\n#svc.fit(data, target).score(data, target)\\n\\ntitle = \"Learning Curves Multi-class regression\"\\ncv = cross_validation.ShuffleSplit(data.shape[0], n_iter=10,\\n                                   test_size=0.3)\\nestimator = RandomForestClassifier() #dejamos un maximo de 1000 iteraciones\\nplot_learning_curve(estimator, title, data, target, cv=cv, n_jobs=4)\\n\\nplt.show()\\n'"
      ]
     },
     "execution_count": 9,
     "metadata": {},
     "output_type": "execute_result"
    }
   ],
   "source": [
    "\"\"\"\n",
    "Probando la clasificacion con Bosques Aleatorios\n",
    "\n",
    "Aqui obtuve un mejor score de precision comparado con los otros metodos\n",
    "que probe, aunque lo hice usando los mismos datos con los que entrene\n",
    "y eso no es nada bueno.\n",
    "\"\"\"\n",
    "\n",
    "clf = RandomForestClassifier()\n",
    "clf = clf.fit(data, target)\n",
    "yest = clf.predict_proba(test)\n",
    "print clf.score(data, target)\n",
    "\n",
    "# Despues lo corrobore sacando la curva de aprendizaje, dando\n",
    "# como resultado un alto bias (igual que en las otras curvas sacadas)\n",
    "# para los datos usados en CV.\n",
    "\n",
    "title = \"Learning Curves Multi-class regression\"\n",
    "cv = cross_validation.ShuffleSplit(data.shape[0], n_iter=10,\n",
    "                                   test_size=0.3)\n",
    "estimator = RandomForestClassifier() #dejamos un maximo de 1000 iteraciones\n",
    "plot_learning_curve(estimator, title, data, target, cv=cv, n_jobs=4)\n",
    "\n",
    "plt.show()\n"
   ]
  },
  {
   "cell_type": "code",
   "execution_count": 12,
   "metadata": {
    "collapsed": false
   },
   "outputs": [
    {
     "ename": "SyntaxError",
     "evalue": "EOF while scanning triple-quoted string literal (<ipython-input-12-22a9b01d8177>, line 16)",
     "output_type": "error",
     "traceback": [
      "\u001b[1;36m  File \u001b[1;32m\"<ipython-input-12-22a9b01d8177>\"\u001b[1;36m, line \u001b[1;32m16\u001b[0m\n\u001b[1;33m    plt.show()\u001b[0m\n\u001b[1;37m              \n^\u001b[0m\n\u001b[1;31mSyntaxError\u001b[0m\u001b[1;31m:\u001b[0m EOF while scanning triple-quoted string literal\n"
     ]
    }
   ],
   "source": [
    "\"\"\"\n",
    "Tambien probe con el metodo de ensamble visto en clase AdaBoosting\n",
    "el cual no me dio mejora en los sumbissions que hice.\n",
    "Analisando la curva de aprendizaje usando este metodo y arboles de decision\n",
    "como el estimador base, se ve que los scores (de entrenamiento y de prueba) se\n",
    "aproximan bastante, pero igual lo que me dan a entender es que mi algoritmo\n",
    "presenta alto bias y necesito utilizar un metodo o caracteristicas mas complej@s.\n",
    "\"\"\"\n",
    "\n",
    "title = \"Learning Curves Multi-class regression\"\n",
    "cv = cross_validation.ShuffleSplit(data.shape[0], n_iter=10,\n",
    "                                   test_size=0.3)\n",
    "estimator = AdaBoostClassifier(DecisionTreeClassifier(max_depth=5), n_estimators = 100) #dejamos un maximo de 1000 iteraciones\n",
    "plot_learning_curve(estimator, title, data, target, cv=cv, n_jobs=4)\n",
    "\n",
    "plt.show()\n"
   ]
  },
  {
   "cell_type": "code",
   "execution_count": 13,
   "metadata": {
    "collapsed": false
   },
   "outputs": [
    {
     "data": {
      "text/plain": [
       "'\\nDe acuerdo con las observaciones que puede hacer, con el trabajo hecho,\\nme quedo con la idea de que es necesario utilizar quiza otro metodo mas complejo\\no usar caracteristicas de mis datos mas especificas o mas complejas tambien (esto\\nporque en ningun momento note que hubiera alta varianza). Desafortunadamente\\nno pude checar curvas de aprendizaje usando PCA y expansion polinomial.\\nEn comentarios vistos en el foro de la competencia, asi como scripts, se ve que\\nla gente usa varios metodos de aprendizaje y un analisis mucho mas profundo.\\nSin lugar a duda muchos de los conceptos y tecnicas vistas en clase para el\\naprendizaje maquina, quedaron mucho mas claros con esta experiencia.\\nNota, quite los bloques donde hacia la prediccion y el archivo submission,\\nsolo lo deje cuando uso SVM, ya que con ello obtuve los resultados mas altos.\\n'"
      ]
     },
     "execution_count": 13,
     "metadata": {},
     "output_type": "execute_result"
    }
   ],
   "source": [
    "\"\"\"\n",
    "De acuerdo con las observaciones que puede hacer, con el trabajo hecho,\n",
    "me quedo con la idea de que es necesario utilizar quiza otro metodo mas complejo\n",
    "o usar caracteristicas de mis datos mas especificas o mas complejas tambien (esto\n",
    "porque en ningun momento note que hubiera alta varianza). Desafortunadamente\n",
    "no pude checar curvas de aprendizaje usando PCA y expansion polinomial.\n",
    "En comentarios vistos en el foro de la competencia, asi como scripts, se ve que\n",
    "la gente usa varios metodos de aprendizaje y un analisis mucho mas profundo.\n",
    "Sin lugar a duda muchos de los conceptos y tecnicas vistas en clase para el\n",
    "aprendizaje maquina, quedaron mucho mas claros con esta experiencia.\n",
    "Nota, quite los bloques donde hacia la prediccion y el archivo submission,\n",
    "solo lo deje cuando uso SVM, ya que con ello obtuve los resultados mas altos.\n",
    "\"\"\""
   ]
  }
 ],
 "metadata": {
  "kernelspec": {
   "display_name": "Python 2",
   "language": "python",
   "name": "python2"
  },
  "language_info": {
   "codemirror_mode": {
    "name": "ipython",
    "version": 2
   },
   "file_extension": ".py",
   "mimetype": "text/x-python",
   "name": "python",
   "nbconvert_exporter": "python",
   "pygments_lexer": "ipython2",
   "version": "2.7.9"
  }
 },
 "nbformat": 4,
 "nbformat_minor": 0
}
